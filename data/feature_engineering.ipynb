{
 "cells": [
  {
   "cell_type": "code",
   "execution_count": 64,
   "id": "looking-reading",
   "metadata": {
    "tags": []
   },
   "outputs": [],
   "source": [
    "import pandas as pd\n",
    "nola = pd.read_csv(\"Nola_clean.csv\")\n",
    "nola['game_date'] = pd.to_datetime(nola['game_date'])"
   ]
  },
  {
   "cell_type": "code",
   "execution_count": 65,
   "id": "corrected-navigator",
   "metadata": {},
   "outputs": [
    {
     "name": "stdout",
     "output_type": "stream",
     "text": [
      "<class 'pandas.core.frame.DataFrame'>\n",
      "RangeIndex: 13170 entries, 0 to 13169\n",
      "Data columns (total 24 columns):\n",
      " #   Column              Non-Null Count  Dtype         \n",
      "---  ------              --------------  -----         \n",
      " 0   player_name         13170 non-null  object        \n",
      " 1   batter_name         13170 non-null  object        \n",
      " 2   game_date           13170 non-null  datetime64[ns]\n",
      " 3   home_team           13170 non-null  object        \n",
      " 4   away_team           13170 non-null  object        \n",
      " 5   pitch_type          13170 non-null  object        \n",
      " 6   batter              13170 non-null  int64         \n",
      " 7   at_bat_number       13170 non-null  int64         \n",
      " 8   pitch_number        13170 non-null  int64         \n",
      " 9   inning              13170 non-null  int64         \n",
      " 10  bat_score           13170 non-null  int64         \n",
      " 11  fld_score           13170 non-null  int64         \n",
      " 12  stand               13170 non-null  int64         \n",
      " 13  balls               13170 non-null  int64         \n",
      " 14  strikes             13170 non-null  int64         \n",
      " 15  outs_when_up        13170 non-null  int64         \n",
      " 16  inning_topbot       13170 non-null  int64         \n",
      " 17  on_3b               13170 non-null  int64         \n",
      " 18  on_2b               13170 non-null  int64         \n",
      " 19  on_1b               13170 non-null  int64         \n",
      " 20  woba_value          3442 non-null   float64       \n",
      " 21  launch_speed_angle  2199 non-null   float64       \n",
      " 22  description         13170 non-null  object        \n",
      " 23  des                 3442 non-null   object        \n",
      "dtypes: datetime64[ns](1), float64(2), int64(14), object(7)\n",
      "memory usage: 2.4+ MB\n"
     ]
    }
   ],
   "source": [
    "nola.info()"
   ]
  },
  {
   "cell_type": "code",
   "execution_count": 66,
   "id": "vietnamese-governor",
   "metadata": {
    "collapsed": true,
    "jupyter": {
     "outputs_hidden": true
    },
    "tags": []
   },
   "outputs": [
    {
     "name": "stderr",
     "output_type": "stream",
     "text": [
      "<ipython-input-66-9b334042a751>:4: SettingWithCopyWarning: \n",
      "A value is trying to be set on a copy of a slice from a DataFrame\n",
      "\n",
      "See the caveats in the documentation: https://pandas.pydata.org/pandas-docs/stable/user_guide/indexing.html#returning-a-view-versus-a-copy\n",
      "  nola[\"pitch_index\"][ix] = d.strftime(\"%Y%m%d\")+str(nola.at_bat_number[ix]).zfill(3)+str(nola.pitch_number[ix]).zfill(2)\n"
     ]
    }
   ],
   "source": [
    "#Create index because sv_id was incomplete\n",
    "nola[\"pitch_index\"] = None\n",
    "for ix, d in enumerate(nola.game_date):\n",
    "    nola[\"pitch_index\"][ix] = d.strftime(\"%Y%m%d\")+str(nola.at_bat_number[ix]).zfill(3)+str(nola.pitch_number[ix]).zfill(2)"
   ]
  },
  {
   "cell_type": "code",
   "execution_count": 67,
   "id": "transparent-insurance",
   "metadata": {},
   "outputs": [],
   "source": [
    "nola=nola.sort_values(by=\"pitch_index\")"
   ]
  },
  {
   "cell_type": "code",
   "execution_count": 75,
   "id": "alien-bryan",
   "metadata": {},
   "outputs": [
    {
     "data": {
      "text/plain": [
       "array([ 1,  2,  3,  4,  9, 10, 11, 12, 18, 19, 20, 21, 26, 27, 28, 32, 33,\n",
       "       34, 35, 36, 40, 41, 42, 43,  7,  8, 15, 16, 17, 22, 23, 24, 25, 44,\n",
       "       51, 52, 53, 59, 60, 61, 62, 69, 70, 71, 72,  5,  6, 13, 14, 37, 38,\n",
       "       31, 39, 47, 48, 49, 50, 45, 29, 30, 46, 54, 56, 57, 58, 55, 63, 64,\n",
       "       65, 66])"
      ]
     },
     "execution_count": 75,
     "metadata": {},
     "output_type": "execute_result"
    }
   ],
   "source": [
    "nola.at_bat_number.unique()"
   ]
  },
  {
   "cell_type": "code",
   "execution_count": 69,
   "id": "clinical-listing",
   "metadata": {},
   "outputs": [],
   "source": [
    "pitches_thrown = nola.groupby(by='game_date').count().batter.sort_values(ascending=False)"
   ]
  },
  {
   "cell_type": "code",
   "execution_count": 70,
   "id": "earlier-theory",
   "metadata": {},
   "outputs": [
    {
     "data": {
      "text/plain": [
       "game_date\n",
       "2019-07-02    117\n",
       "2019-09-24    115\n",
       "2018-06-28    114\n",
       "2018-05-26    113\n",
       "2020-09-01    113\n",
       "             ... \n",
       "2018-03-29     68\n",
       "2016-07-18     68\n",
       "2015-09-26     67\n",
       "2015-09-02     65\n",
       "2019-04-03     63\n",
       "Name: batter, Length: 139, dtype: int64"
      ]
     },
     "execution_count": 70,
     "metadata": {},
     "output_type": "execute_result"
    }
   ],
   "source": [
    "pitches_thrown"
   ]
  },
  {
   "cell_type": "code",
   "execution_count": null,
   "id": "dominican-clearance",
   "metadata": {},
   "outputs": [],
   "source": [
    "nola.woba_denom.unique()"
   ]
  },
  {
   "cell_type": "code",
   "execution_count": null,
   "id": "designed-philadelphia",
   "metadata": {},
   "outputs": [],
   "source": [
    "nola.on_1b = pd.get_dummies(nola.on_1b)"
   ]
  },
  {
   "cell_type": "code",
   "execution_count": null,
   "id": "incorrect-rocket",
   "metadata": {},
   "outputs": [],
   "source": [
    "batters = nola.groupby(by='batter_name').count().batter.sort_values(ascending=False)\n",
    "batters[batters>100]"
   ]
  },
  {
   "cell_type": "code",
   "execution_count": null,
   "id": "declared-panic",
   "metadata": {},
   "outputs": [],
   "source": [
    "K = pd.concat([nola[nola.events=='strikeout'],\n",
    "                        nola[nola.events=='strikeout_double_play']])\n",
    "K = K.groupby('pitch_type').count().batter.sort_values(ascending=False)"
   ]
  },
  {
   "cell_type": "code",
   "execution_count": null,
   "id": "designing-meditation",
   "metadata": {},
   "outputs": [],
   "source": [
    "K"
   ]
  },
  {
   "cell_type": "code",
   "execution_count": null,
   "id": "atlantic-thermal",
   "metadata": {},
   "outputs": [],
   "source": []
  }
 ],
 "metadata": {
  "kernelspec": {
   "display_name": "Python 3",
   "language": "python",
   "name": "python3"
  },
  "language_info": {
   "codemirror_mode": {
    "name": "ipython",
    "version": 3
   },
   "file_extension": ".py",
   "mimetype": "text/x-python",
   "name": "python",
   "nbconvert_exporter": "python",
   "pygments_lexer": "ipython3",
   "version": "3.8.5"
  }
 },
 "nbformat": 4,
 "nbformat_minor": 5
}
