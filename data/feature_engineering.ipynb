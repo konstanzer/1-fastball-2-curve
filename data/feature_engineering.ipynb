{
 "cells": [
  {
   "cell_type": "code",
   "execution_count": 202,
   "id": "atlantic-progressive",
   "metadata": {
    "tags": []
   },
   "outputs": [],
   "source": [
    "import pandas as pd\n",
    "import numpy as np\n",
    "import warnings\n",
    "warnings.filterwarnings('ignore')\n",
    "\n",
    "nola = pd.read_csv(\"Nola_all.csv\")\n",
    "nola['game_date'] = pd.to_datetime(nola['game_date'])"
   ]
  },
  {
   "cell_type": "code",
   "execution_count": 203,
   "id": "tracked-eagle",
   "metadata": {
    "tags": []
   },
   "outputs": [],
   "source": [
    "#Create index because sv_id was incomplete\n",
    "nola[\"pitch_pk\"] = None\n",
    "for ix, d in enumerate(nola.game_date):\n",
    "    nola.pitch_pk[ix] = d.strftime(\"%Y%m%d\")+str(nola.at_bat_number[ix]).zfill(3)+str(nola.pitch_number[ix]).zfill(2)\n",
    "\n",
    "nola=nola.sort_values(by=\"pitch_pk\")\n",
    "nola.reset_index(inplace=True)\n",
    "nola.drop(columns=['player_name', 'game_date', 'batter_name', 'home_team',\n",
    "                   'away_team', 'inning_topbot', 'description', 'des', 'at_bat_number'], axis=1, inplace=True)\n",
    "nola.drop(columns=['index'],  axis=1, inplace=True)"
   ]
  },
  {
   "cell_type": "code",
   "execution_count": 139,
   "id": "creative-visiting",
   "metadata": {
    "tags": []
   },
   "outputs": [],
   "source": [
    "#Create pitch count & batter count.\n",
    "nola[\"pitch_count\"] = None\n",
    "nola[\"batter_count\"] = None\n",
    "i=0\n",
    "b=1\n",
    "\n",
    "for ix, pk in enumerate(nola.game_pk):\n",
    "    i += 1\n",
    "    \n",
    "    nola.pitch_count[ix]=i\n",
    "    nola.batter_count[ix]=b\n",
    "    \n",
    "    if ix==len(nola.game_pk)-1:\n",
    "        break\n",
    "    if nola.batter[ix] != nola.batter[ix+1]:\n",
    "        b += 1\n",
    "    if pk != nola.game_pk[ix+1]:\n",
    "        i=0\n",
    "        b=1"
   ]
  },
  {
   "cell_type": "code",
   "execution_count": 148,
   "id": "aquatic-column",
   "metadata": {},
   "outputs": [],
   "source": [
    "#Dummies made it look like runners are always on\n",
    "nola.on_3b = np.logical_xor(nola.on_3b,1).astype(int)\n",
    "nola.on_2b = np.logical_xor(nola.on_2b,1).astype(int)\n",
    "nola.on_1b = np.logical_xor(nola.on_1b,1).astype(int)"
   ]
  },
  {
   "cell_type": "code",
   "execution_count": 149,
   "id": "black-validation",
   "metadata": {},
   "outputs": [],
   "source": [
    "#Now make an interaction variable for balls and strikes. Higher favors pitcher.\n",
    "nola[\"count_rating\"] = .5 + nola.strikes*(.5/2) - nola.balls*(.5/3)  #3-0 count is a 0, 0-2 count is a 1\n",
    "nola[\"runner_pressure\"] = (nola.on_1b+2*nola.on_2b+3*nola.on_3b)/6.\n",
    "nola[\"score_diff\"] = nola.fld_score - nola.bat_score"
   ]
  },
  {
   "cell_type": "code",
   "execution_count": 180,
   "id": "funny-astrology",
   "metadata": {
    "tags": []
   },
   "outputs": [],
   "source": [
    "#We want to use wOBA, a measure of at-bat success, and launch-speed angle, a measure of contact quality.\n",
    "#To make them informative, they should be historical averages taking into account the extent of history.\n",
    "#Engineer a feature to show the interaction.\n",
    "nola[\"woba_hist\"] = None\n",
    "nola[\"woba_denom\"] = None\n",
    "#nola[\"launch_spang_hist\"] = None\n",
    "#nola[\"launch_spang_denom\"] = None\n",
    "\n",
    "for ix, woba in enumerate(nola.woba_value):\n",
    "    if np.isnan(woba):\n",
    "        continue\n",
    "    else:\n",
    "        batter = nola.batter[ix]\n",
    "        for i in range(ix,-1,-1):\n",
    "            if nola.batter[i] == batter:\n",
    "                x = nola.woba_denom[i]\n",
    "                if isinstance(x, int):\n",
    "                    if x==0:\n",
    "                        nola.woba_denom[ix] = 1\n",
    "                        nola.woba_hist[ix] = nola.woba_value[i]\n",
    "                        break\n",
    "                    else:\n",
    "                        nola.woba_denom[ix] = x+1\n",
    "                        nola.woba_hist[ix] = nola.woba_hist[i]+woba\n",
    "                        break\n",
    "                else:\n",
    "                    nola.woba_denom[ix] = 0\n",
    "                    break"
   ]
  },
  {
   "cell_type": "code",
   "execution_count": 209,
   "id": "crude-current",
   "metadata": {},
   "outputs": [
    {
     "data": {
      "text/html": [
       "<div>\n",
       "<style scoped>\n",
       "    .dataframe tbody tr th:only-of-type {\n",
       "        vertical-align: middle;\n",
       "    }\n",
       "\n",
       "    .dataframe tbody tr th {\n",
       "        vertical-align: top;\n",
       "    }\n",
       "\n",
       "    .dataframe thead th {\n",
       "        text-align: right;\n",
       "    }\n",
       "</style>\n",
       "<table border=\"1\" class=\"dataframe\">\n",
       "  <thead>\n",
       "    <tr style=\"text-align: right;\">\n",
       "      <th></th>\n",
       "      <th>pitch_type</th>\n",
       "      <th>batter</th>\n",
       "      <th>pitch_number</th>\n",
       "      <th>inning</th>\n",
       "      <th>bat_score</th>\n",
       "      <th>fld_score</th>\n",
       "      <th>stand</th>\n",
       "      <th>balls</th>\n",
       "      <th>strikes</th>\n",
       "      <th>outs_when_up</th>\n",
       "      <th>on_3b</th>\n",
       "      <th>on_2b</th>\n",
       "      <th>on_1b</th>\n",
       "      <th>woba_value</th>\n",
       "      <th>launch_speed_angle</th>\n",
       "      <th>game_pk</th>\n",
       "      <th>pitch_pk</th>\n",
       "    </tr>\n",
       "  </thead>\n",
       "  <tbody>\n",
       "    <tr>\n",
       "      <th>0</th>\n",
       "      <td>FF</td>\n",
       "      <td>444379</td>\n",
       "      <td>1</td>\n",
       "      <td>1</td>\n",
       "      <td>0</td>\n",
       "      <td>0</td>\n",
       "      <td>1</td>\n",
       "      <td>0</td>\n",
       "      <td>0</td>\n",
       "      <td>0</td>\n",
       "      <td>1</td>\n",
       "      <td>1</td>\n",
       "      <td>1</td>\n",
       "      <td>NaN</td>\n",
       "      <td>NaN</td>\n",
       "      <td>415056</td>\n",
       "      <td>2015072100101</td>\n",
       "    </tr>\n",
       "    <tr>\n",
       "      <th>1</th>\n",
       "      <td>FF</td>\n",
       "      <td>444379</td>\n",
       "      <td>2</td>\n",
       "      <td>1</td>\n",
       "      <td>0</td>\n",
       "      <td>0</td>\n",
       "      <td>1</td>\n",
       "      <td>1</td>\n",
       "      <td>0</td>\n",
       "      <td>0</td>\n",
       "      <td>1</td>\n",
       "      <td>1</td>\n",
       "      <td>1</td>\n",
       "      <td>NaN</td>\n",
       "      <td>NaN</td>\n",
       "      <td>415056</td>\n",
       "      <td>2015072100102</td>\n",
       "    </tr>\n",
       "    <tr>\n",
       "      <th>2</th>\n",
       "      <td>FF</td>\n",
       "      <td>444379</td>\n",
       "      <td>3</td>\n",
       "      <td>1</td>\n",
       "      <td>0</td>\n",
       "      <td>0</td>\n",
       "      <td>1</td>\n",
       "      <td>1</td>\n",
       "      <td>1</td>\n",
       "      <td>0</td>\n",
       "      <td>1</td>\n",
       "      <td>1</td>\n",
       "      <td>1</td>\n",
       "      <td>NaN</td>\n",
       "      <td>NaN</td>\n",
       "      <td>415056</td>\n",
       "      <td>2015072100103</td>\n",
       "    </tr>\n",
       "    <tr>\n",
       "      <th>3</th>\n",
       "      <td>SI</td>\n",
       "      <td>444379</td>\n",
       "      <td>4</td>\n",
       "      <td>1</td>\n",
       "      <td>0</td>\n",
       "      <td>0</td>\n",
       "      <td>1</td>\n",
       "      <td>2</td>\n",
       "      <td>1</td>\n",
       "      <td>0</td>\n",
       "      <td>1</td>\n",
       "      <td>1</td>\n",
       "      <td>1</td>\n",
       "      <td>1.25</td>\n",
       "      <td>NaN</td>\n",
       "      <td>415056</td>\n",
       "      <td>2015072100104</td>\n",
       "    </tr>\n",
       "    <tr>\n",
       "      <th>4</th>\n",
       "      <td>FF</td>\n",
       "      <td>519306</td>\n",
       "      <td>1</td>\n",
       "      <td>1</td>\n",
       "      <td>0</td>\n",
       "      <td>0</td>\n",
       "      <td>0</td>\n",
       "      <td>0</td>\n",
       "      <td>0</td>\n",
       "      <td>0</td>\n",
       "      <td>1</td>\n",
       "      <td>0</td>\n",
       "      <td>1</td>\n",
       "      <td>NaN</td>\n",
       "      <td>NaN</td>\n",
       "      <td>415056</td>\n",
       "      <td>2015072100201</td>\n",
       "    </tr>\n",
       "  </tbody>\n",
       "</table>\n",
       "</div>"
      ],
      "text/plain": [
       "  pitch_type  batter  pitch_number  inning  bat_score  fld_score  stand  \\\n",
       "0         FF  444379             1       1          0          0      1   \n",
       "1         FF  444379             2       1          0          0      1   \n",
       "2         FF  444379             3       1          0          0      1   \n",
       "3         SI  444379             4       1          0          0      1   \n",
       "4         FF  519306             1       1          0          0      0   \n",
       "\n",
       "   balls  strikes  outs_when_up  on_3b  on_2b  on_1b  woba_value  \\\n",
       "0      0        0             0      1      1      1         NaN   \n",
       "1      1        0             0      1      1      1         NaN   \n",
       "2      1        1             0      1      1      1         NaN   \n",
       "3      2        1             0      1      1      1        1.25   \n",
       "4      0        0             0      1      0      1         NaN   \n",
       "\n",
       "   launch_speed_angle  game_pk       pitch_pk  \n",
       "0                 NaN   415056  2015072100101  \n",
       "1                 NaN   415056  2015072100102  \n",
       "2                 NaN   415056  2015072100103  \n",
       "3                 NaN   415056  2015072100104  \n",
       "4                 NaN   415056  2015072100201  "
      ]
     },
     "execution_count": 209,
     "metadata": {},
     "output_type": "execute_result"
    }
   ],
   "source": [
    "nola.head()"
   ]
  },
  {
   "cell_type": "code",
   "execution_count": 204,
   "id": "artistic-court",
   "metadata": {},
   "outputs": [
    {
     "data": {
      "text/plain": [
       "game_pk\n",
       "567208    117\n",
       "565970    115\n",
       "530622    114\n",
       "630853    113\n",
       "631153    113\n",
       "         ... \n",
       "448253     68\n",
       "529416     68\n",
       "415964     67\n",
       "415638     65\n",
       "565899     63\n",
       "Name: batter, Length: 139, dtype: int64"
      ]
     },
     "execution_count": 204,
     "metadata": {},
     "output_type": "execute_result"
    }
   ],
   "source": [
    "nola.groupby(by='game_pk').count().batter.sort_values(ascending=False)"
   ]
  },
  {
   "cell_type": "code",
   "execution_count": 205,
   "id": "suburban-watershed",
   "metadata": {},
   "outputs": [
    {
     "data": {
      "text/plain": [
       "pitch_type\n",
       "CU    4138\n",
       "FF    4015\n",
       "SI    2761\n",
       "CH    2256\n",
       "Name: batter, dtype: int64"
      ]
     },
     "execution_count": 205,
     "metadata": {},
     "output_type": "execute_result"
    }
   ],
   "source": [
    "nola.groupby(by='pitch_type').count().batter.sort_values(ascending=False)"
   ]
  },
  {
   "cell_type": "code",
   "execution_count": 208,
   "id": "spread-tourist",
   "metadata": {},
   "outputs": [
    {
     "data": {
      "text/plain": [
       "batter\n",
       "543685    182\n",
       "518692    180\n",
       "624424    178\n",
       "455976    169\n",
       "665742    160\n",
       "         ... \n",
       "591741      2\n",
       "543194      1\n",
       "621261      1\n",
       "621219      1\n",
       "647336      1\n",
       "Name: inning, Length: 506, dtype: int64"
      ]
     },
     "execution_count": 208,
     "metadata": {},
     "output_type": "execute_result"
    }
   ],
   "source": [
    "nola.groupby(by='batter').count().inning.sort_values(ascending=False)"
   ]
  },
  {
   "cell_type": "code",
   "execution_count": null,
   "id": "interstate-flashing",
   "metadata": {},
   "outputs": [],
   "source": [
    "nola.to_csv('Nola_clean.csv', index=False)"
   ]
  }
 ],
 "metadata": {
  "kernelspec": {
   "display_name": "Python 3",
   "language": "python",
   "name": "python3"
  },
  "language_info": {
   "codemirror_mode": {
    "name": "ipython",
    "version": 3
   },
   "file_extension": ".py",
   "mimetype": "text/x-python",
   "name": "python",
   "nbconvert_exporter": "python",
   "pygments_lexer": "ipython3",
   "version": "3.8.5"
  }
 },
 "nbformat": 4,
 "nbformat_minor": 5
}
