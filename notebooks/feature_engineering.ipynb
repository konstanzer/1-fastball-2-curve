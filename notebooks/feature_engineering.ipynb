{
 "cells": [
  {
   "cell_type": "code",
   "execution_count": 18,
   "id": "political-diagram",
   "metadata": {
    "tags": []
   },
   "outputs": [],
   "source": [
    "import pandas as pd\n",
    "import numpy as np\n",
    "import warnings\n",
    "warnings.filterwarnings('ignore')\n",
    "\n",
    "nola = pd.read_csv(\"Nola_all_clean.csv\")\n",
    "nola['game_date'] = pd.to_datetime(nola['game_date'])\n",
    "nola=nola.sort_values(['game_date', 'at_bat_number'], ascending=[True, True])\n",
    "nola.reset_index(inplace=True)\n",
    "nola.drop(columns=['index'],  axis=1, inplace=True)"
   ]
  },
  {
   "cell_type": "code",
   "execution_count": 46,
   "id": "native-saturn",
   "metadata": {},
   "outputs": [],
   "source": [
    "#Now make an interaction variable for balls and strikes. Higher favors pitcher.\n",
    "nola[\"runner_pressure\"] = (nola.on_1b+2*nola.on_2b+3*nola.on_3b)/6.\n",
    "nola[\"score_diff\"] = nola.fld_score - nola.bat_score"
   ]
  },
  {
   "cell_type": "code",
   "execution_count": 47,
   "id": "sound-carrier",
   "metadata": {},
   "outputs": [],
   "source": [
    "#Opponent field\n",
    "nola[\"home_fld\"] = (nola.home_team==\"PHI\").astype(int)\n",
    "nola[\"opponent\"] = None\n",
    "for ix, _ in enumerate(nola.opponent):\n",
    "    if nola.home_fld[ix] == 1:\n",
    "        nola.opponent[ix] = nola.away_team[ix]\n",
    "    else:\n",
    "        nola.opponent[ix] = nola.home_team[ix]"
   ]
  },
  {
   "cell_type": "code",
   "execution_count": 48,
   "id": "recreational-impact",
   "metadata": {},
   "outputs": [],
   "source": [
    "#Average wOBA and launch speed angle calculated as average of all previous plate appearances for individual batter.\n",
    "nola[\"woba_hist\"] = None\n",
    "nola[\"lsangle_hist\"] = None\n",
    "nola[\"prev_hth\"] = 0\n",
    "\n",
    "for bid in nola.batter.unique():\n",
    "    hist = nola[nola.batter==bid][nola.woba_value>=0]\n",
    "    while hist.shape[0] > 1:\n",
    "        nola.woba_hist.iloc[hist.index[-1]] = hist[:-1].woba_value.mean()\n",
    "        nola.lsangle_hist.iloc[hist.index[-1]] = hist[:-1].launch_speed_angle.mean()\n",
    "        nola.prev_hth.iloc[hist.index[-1]] = hist.shape[0]-1\n",
    "        hist.drop(hist.index[-1], inplace=True)"
   ]
  },
  {
   "cell_type": "code",
   "execution_count": 49,
   "id": "promotional-australian",
   "metadata": {
    "tags": []
   },
   "outputs": [],
   "source": [
    "#backfill above categories for whole at-bat\n",
    "x = nola.shape[0]-1\n",
    "for ix, fill in enumerate(reversed(nola.woba_hist)):\n",
    "    if ix==x:\n",
    "        break\n",
    "    if isinstance(fill, float):\n",
    "        if nola.batter[x-ix] == nola.batter[x-ix-1]:\n",
    "            nola.woba_hist[x-ix-1] = fill\n",
    "            \n",
    "for ix, fill in enumerate(reversed(nola.prev_hth)):\n",
    "    if ix==x:\n",
    "        break\n",
    "    if nola.batter[x-ix] == nola.batter[x-ix-1]:\n",
    "        nola.prev_hth[x-ix-1] = fill\n",
    "        \n",
    "for ix, fill in enumerate(reversed(nola.lsangle_hist)):\n",
    "    if ix==x:\n",
    "        break\n",
    "    if isinstance(fill, float):\n",
    "        if nola.batter[x-ix] == nola.batter[x-ix-1]:\n",
    "            nola.lsangle_hist[x-ix-1] = fill       "
   ]
  },
  {
   "cell_type": "code",
   "execution_count": 50,
   "id": "instant-custody",
   "metadata": {},
   "outputs": [],
   "source": [
    "#Delete noisy values for thin histories\n",
    "for ix, p in enumerate(nola.prev_hth):\n",
    "    if p < 5:\n",
    "        nola.woba_hist[ix] = None\n",
    "        nola.lsangle_hist[ix] = None"
   ]
  },
  {
   "cell_type": "code",
   "execution_count": 51,
   "id": "arabic-static",
   "metadata": {},
   "outputs": [],
   "source": [
    "#Makes a string from strikes and balls\n",
    "nola[\"count_id\"] = None\n",
    "for ix, (b,s) in enumerate(zip(nola.balls, nola.strikes)):\n",
    "    nola.count_id[ix] = str(b)+\"-\"+str(s)"
   ]
  },
  {
   "cell_type": "code",
   "execution_count": 52,
   "id": "regulated-heath",
   "metadata": {
    "tags": []
   },
   "outputs": [],
   "source": [
    "#Create pitch count & batter count.\n",
    "nola[\"pitch_count\"] = None\n",
    "nola[\"batter_count\"] = None\n",
    "x=len(nola.game_pk)-1\n",
    "i=0\n",
    "b=1\n",
    "\n",
    "for ix, pk in enumerate(nola.game_pk):\n",
    "    i += 1\n",
    "    \n",
    "    nola.pitch_count[ix]=i\n",
    "    nola.batter_count[ix]=b\n",
    "    \n",
    "    if ix==x:\n",
    "        break\n",
    "    if nola.batter[ix] != nola.batter[ix+1]:\n",
    "        b += 1\n",
    "    if pk != nola.game_pk[ix+1]:\n",
    "        i=0\n",
    "        b=1"
   ]
  },
  {
   "cell_type": "code",
   "execution_count": 53,
   "id": "attractive-incidence",
   "metadata": {},
   "outputs": [],
   "source": [
    "#Last pitch: FF if first game pitch\n",
    "nola[\"pitch_last\"] = None\n",
    "\n",
    "for ix, p in enumerate(nola.pitch_type):\n",
    "    if ix == nola.shape[0]-1:\n",
    "        break\n",
    "        \n",
    "    nola.pitch_last[ix+1] = p\n",
    "    \n",
    "    if nola.pitch_count[ix] == 2:\n",
    "        nola.pitch_last[ix-1] = None"
   ]
  },
  {
   "cell_type": "code",
   "execution_count": 54,
   "id": "residential-lease",
   "metadata": {},
   "outputs": [],
   "source": [
    "#Average pitch thrown to individual batter based on all past pitches\n",
    "nola[\"pitch_hist\"] = None\n",
    "\n",
    "for bid in nola.batter.unique():\n",
    "    hist = nola[nola.batter==bid][[\"batter\", \"pitch_type\"]]\n",
    "    while hist.shape[0] > 1:\n",
    "        ix = hist.index[-1] \n",
    "        hist.drop(hist.index[-1], inplace=True) #no leakage - don't calculate based on current pitch\n",
    "        commonest_pitch = hist.groupby([\"pitch_type\"]).agg({\"pitch_type\": \"count\"}).pitch_type.sort_values(ascending=False).index[0]\n",
    "        nola.pitch_hist.iloc[ix] = commonest_pitch"
   ]
  },
  {
   "cell_type": "code",
   "execution_count": 55,
   "id": "normal-subject",
   "metadata": {},
   "outputs": [],
   "source": [
    "#Predict most common pitch by pitch number\n",
    "nola[\"number_pitch\"] = None\n",
    "\n",
    "for ix, n in enumerate(nola.pitch_number):\n",
    "    if n==1:\n",
    "        nola.number_pitch[ix]=\"FF\"\n",
    "    else:\n",
    "        nola.number_pitch[ix]=\"CU\""
   ]
  },
  {
   "cell_type": "code",
   "execution_count": 1,
   "id": "cooked-turning",
   "metadata": {},
   "outputs": [
    {
     "ename": "NameError",
     "evalue": "name 'nola' is not defined",
     "output_type": "error",
     "traceback": [
      "\u001b[0;31m---------------------------------------------------------------------------\u001b[0m",
      "\u001b[0;31mNameError\u001b[0m                                 Traceback (most recent call last)",
      "\u001b[0;32m<ipython-input-1-42f9065d206d>\u001b[0m in \u001b[0;36m<module>\u001b[0;34m\u001b[0m\n\u001b[0;32m----> 1\u001b[0;31m \u001b[0mcount_df\u001b[0m\u001b[0;34m=\u001b[0m\u001b[0mnola\u001b[0m\u001b[0;34m.\u001b[0m\u001b[0mgroupby\u001b[0m\u001b[0;34m(\u001b[0m\u001b[0;34m[\u001b[0m\u001b[0;34m\"count_id\"\u001b[0m\u001b[0;34m,\u001b[0m \u001b[0;34m\"pitch_type\"\u001b[0m\u001b[0;34m]\u001b[0m\u001b[0;34m)\u001b[0m\u001b[0;34m.\u001b[0m\u001b[0magg\u001b[0m\u001b[0;34m(\u001b[0m\u001b[0;34m{\u001b[0m\u001b[0;34m'count_id'\u001b[0m\u001b[0;34m:\u001b[0m \u001b[0;34m'count'\u001b[0m\u001b[0;34m}\u001b[0m\u001b[0;34m)\u001b[0m\u001b[0;34m\u001b[0m\u001b[0;34m\u001b[0m\u001b[0m\n\u001b[0m",
      "\u001b[0;31mNameError\u001b[0m: name 'nola' is not defined"
     ]
    }
   ],
   "source": [
    "count_df=nola.groupby([\"count_id\", \"pitch_type\"]).agg({'count_id': 'count'})"
   ]
  },
  {
   "cell_type": "code",
   "execution_count": 56,
   "id": "random-catalyst",
   "metadata": {},
   "outputs": [],
   "source": [
    "#Predict most common pitch by pitch count (Nola only)\n",
    "nola[\"count_pitch\"] = None\n",
    "\n",
    "for ix, count in enumerate(nola.count_id):\n",
    "    if count in [\"0-0\", \"2-1\", \"3-0\"]:\n",
    "        nola.count_pitch[ix]=\"FF\"\n",
    "    elif count in [\"2-0\", \"3-1\"]:\n",
    "        nola.count_pitch[ix]=\"SI\"\n",
    "    else:\n",
    "        nola.count_pitch[ix]=\"CU\""
   ]
  },
  {
   "cell_type": "code",
   "execution_count": 57,
   "id": "settled-depression",
   "metadata": {},
   "outputs": [],
   "source": [
    "nola.drop(columns=['home_team', 'away_team', 'woba_value', 'launch_speed_angle', 'fld_score', 'bat_score',\n",
    "                   'description', 'on_3b', 'on_2b', 'on_1b', 'home_fld'],  axis=1, inplace=True)"
   ]
  },
  {
   "cell_type": "code",
   "execution_count": 58,
   "id": "pursuant-genome",
   "metadata": {},
   "outputs": [],
   "source": [
    "#Last 3 pitches velo. gradient\n",
    "from scipy.stats import linregress\n",
    "nola[\"velo_grad\"] = None\n",
    "x = [1,2,3]\n",
    "\n",
    "for ix, _ in enumerate(nola.release_speed):\n",
    "    if nola.pitch_count[ix] > 3:\n",
    "        y = nola.release_speed[ix-3:ix]\n",
    "        nola.velo_grad[ix] = linregress(x,y)[0]"
   ]
  },
  {
   "cell_type": "code",
   "execution_count": 59,
   "id": "growing-sandwich",
   "metadata": {},
   "outputs": [],
   "source": [
    "#Pitch results must be dropped to prevent LEAKAGE\n",
    "nola.drop(columns=['release_speed', 'zone'],  axis=1, inplace=True)"
   ]
  },
  {
   "cell_type": "code",
   "execution_count": 262,
   "id": "returning-warning",
   "metadata": {},
   "outputs": [],
   "source": [
    "nola.to_csv('Nola_feat.csv', index=False)"
   ]
  },
  {
   "cell_type": "markdown",
   "id": "killing-seeking",
   "metadata": {},
   "source": [
    "### All features created. Prepare for models (dummy variables)"
   ]
  },
  {
   "cell_type": "code",
   "execution_count": 68,
   "id": "composed-hotel",
   "metadata": {
    "tags": []
   },
   "outputs": [
    {
     "name": "stdout",
     "output_type": "stream",
     "text": [
      "<class 'pandas.core.frame.DataFrame'>\n",
      "RangeIndex: 13170 entries, 0 to 13169\n",
      "Data columns (total 31 columns):\n",
      " #   Column           Non-Null Count  Dtype  \n",
      "---  ------           --------------  -----  \n",
      " 0   pitch_type       13170 non-null  int64  \n",
      " 1   batter           13170 non-null  int64  \n",
      " 2   pitch_number     13170 non-null  int64  \n",
      " 3   inning           13170 non-null  int64  \n",
      " 4   balls            13170 non-null  int64  \n",
      " 5   strikes          13170 non-null  int64  \n",
      " 6   runner_pressure  13170 non-null  float64\n",
      " 7   score_diff       13170 non-null  int64  \n",
      " 8   woba_hist        13170 non-null  float64\n",
      " 9   lsangle_hist     13170 non-null  float64\n",
      " 10  prev_hth         13170 non-null  int64  \n",
      " 11  count_id         13170 non-null  object \n",
      " 12  pitch_count      13170 non-null  int64  \n",
      " 13  batter_count     13170 non-null  int64  \n",
      " 14  pitch_last       13170 non-null  int64  \n",
      " 15  pitch_hist       13170 non-null  int64  \n",
      " 16  number_pitch     13170 non-null  int64  \n",
      " 17  count_pitch      13170 non-null  int64  \n",
      " 18  velo_grad        13170 non-null  float64\n",
      " 19  0-0              13170 non-null  uint8  \n",
      " 20  0-1              13170 non-null  uint8  \n",
      " 21  0-2              13170 non-null  uint8  \n",
      " 22  1-0              13170 non-null  uint8  \n",
      " 23  1-1              13170 non-null  uint8  \n",
      " 24  1-2              13170 non-null  uint8  \n",
      " 25  2-0              13170 non-null  uint8  \n",
      " 26  2-1              13170 non-null  uint8  \n",
      " 27  2-2              13170 non-null  uint8  \n",
      " 28  3-0              13170 non-null  uint8  \n",
      " 29  3-1              13170 non-null  uint8  \n",
      " 30  3-2              13170 non-null  uint8  \n",
      "dtypes: float64(4), int64(14), object(1), uint8(12)\n",
      "memory usage: 2.1+ MB\n"
     ]
    }
   ],
   "source": [
    "nola.info()"
   ]
  },
  {
   "cell_type": "code",
   "execution_count": 61,
   "id": "dying-commander",
   "metadata": {},
   "outputs": [
    {
     "data": {
      "text/html": [
       "<div>\n",
       "<style scoped>\n",
       "    .dataframe tbody tr th:only-of-type {\n",
       "        vertical-align: middle;\n",
       "    }\n",
       "\n",
       "    .dataframe tbody tr th {\n",
       "        vertical-align: top;\n",
       "    }\n",
       "\n",
       "    .dataframe thead th {\n",
       "        text-align: right;\n",
       "    }\n",
       "</style>\n",
       "<table border=\"1\" class=\"dataframe\">\n",
       "  <thead>\n",
       "    <tr style=\"text-align: right;\">\n",
       "      <th></th>\n",
       "      <th>pitch_type</th>\n",
       "      <th>batter</th>\n",
       "      <th>pitch_number</th>\n",
       "      <th>inning</th>\n",
       "      <th>stand</th>\n",
       "      <th>balls</th>\n",
       "      <th>strikes</th>\n",
       "      <th>outs_when_up</th>\n",
       "      <th>game_pk</th>\n",
       "      <th>pitch_pk</th>\n",
       "      <th>...</th>\n",
       "      <th>lsangle_hist</th>\n",
       "      <th>prev_hth</th>\n",
       "      <th>count_id</th>\n",
       "      <th>pitch_count</th>\n",
       "      <th>batter_count</th>\n",
       "      <th>pitch_last</th>\n",
       "      <th>pitch_hist</th>\n",
       "      <th>number_pitch</th>\n",
       "      <th>count_pitch</th>\n",
       "      <th>velo_grad</th>\n",
       "    </tr>\n",
       "  </thead>\n",
       "  <tbody>\n",
       "    <tr>\n",
       "      <th>13165</th>\n",
       "      <td>CU</td>\n",
       "      <td>664040</td>\n",
       "      <td>4</td>\n",
       "      <td>4</td>\n",
       "      <td>1</td>\n",
       "      <td>1</td>\n",
       "      <td>2</td>\n",
       "      <td>2</td>\n",
       "      <td>630945</td>\n",
       "      <td>2020092703604</td>\n",
       "      <td>...</td>\n",
       "      <td>None</td>\n",
       "      <td>2</td>\n",
       "      <td>1-2</td>\n",
       "      <td>89</td>\n",
       "      <td>20</td>\n",
       "      <td>CU</td>\n",
       "      <td>CU</td>\n",
       "      <td>CU</td>\n",
       "      <td>CU</td>\n",
       "      <td>-2.85</td>\n",
       "    </tr>\n",
       "    <tr>\n",
       "      <th>13166</th>\n",
       "      <td>FF</td>\n",
       "      <td>664040</td>\n",
       "      <td>5</td>\n",
       "      <td>4</td>\n",
       "      <td>1</td>\n",
       "      <td>1</td>\n",
       "      <td>2</td>\n",
       "      <td>2</td>\n",
       "      <td>630945</td>\n",
       "      <td>2020092703605</td>\n",
       "      <td>...</td>\n",
       "      <td>None</td>\n",
       "      <td>2</td>\n",
       "      <td>1-2</td>\n",
       "      <td>90</td>\n",
       "      <td>20</td>\n",
       "      <td>CU</td>\n",
       "      <td>CU</td>\n",
       "      <td>CU</td>\n",
       "      <td>CU</td>\n",
       "      <td>-3.0</td>\n",
       "    </tr>\n",
       "    <tr>\n",
       "      <th>13167</th>\n",
       "      <td>CH</td>\n",
       "      <td>664040</td>\n",
       "      <td>6</td>\n",
       "      <td>4</td>\n",
       "      <td>1</td>\n",
       "      <td>1</td>\n",
       "      <td>2</td>\n",
       "      <td>2</td>\n",
       "      <td>630945</td>\n",
       "      <td>2020092703606</td>\n",
       "      <td>...</td>\n",
       "      <td>None</td>\n",
       "      <td>2</td>\n",
       "      <td>1-2</td>\n",
       "      <td>91</td>\n",
       "      <td>20</td>\n",
       "      <td>FF</td>\n",
       "      <td>CU</td>\n",
       "      <td>CU</td>\n",
       "      <td>CU</td>\n",
       "      <td>7.25</td>\n",
       "    </tr>\n",
       "    <tr>\n",
       "      <th>13168</th>\n",
       "      <td>FF</td>\n",
       "      <td>664040</td>\n",
       "      <td>7</td>\n",
       "      <td>4</td>\n",
       "      <td>1</td>\n",
       "      <td>2</td>\n",
       "      <td>2</td>\n",
       "      <td>2</td>\n",
       "      <td>630945</td>\n",
       "      <td>2020092703607</td>\n",
       "      <td>...</td>\n",
       "      <td>None</td>\n",
       "      <td>2</td>\n",
       "      <td>2-2</td>\n",
       "      <td>92</td>\n",
       "      <td>20</td>\n",
       "      <td>CH</td>\n",
       "      <td>CU</td>\n",
       "      <td>CU</td>\n",
       "      <td>CU</td>\n",
       "      <td>2.7</td>\n",
       "    </tr>\n",
       "    <tr>\n",
       "      <th>13169</th>\n",
       "      <td>CU</td>\n",
       "      <td>664040</td>\n",
       "      <td>8</td>\n",
       "      <td>4</td>\n",
       "      <td>1</td>\n",
       "      <td>3</td>\n",
       "      <td>2</td>\n",
       "      <td>2</td>\n",
       "      <td>630945</td>\n",
       "      <td>2020092703608</td>\n",
       "      <td>...</td>\n",
       "      <td>None</td>\n",
       "      <td>2</td>\n",
       "      <td>3-2</td>\n",
       "      <td>93</td>\n",
       "      <td>20</td>\n",
       "      <td>FF</td>\n",
       "      <td>CU</td>\n",
       "      <td>CU</td>\n",
       "      <td>CU</td>\n",
       "      <td>-0.8</td>\n",
       "    </tr>\n",
       "  </tbody>\n",
       "</table>\n",
       "<p>5 rows × 24 columns</p>\n",
       "</div>"
      ],
      "text/plain": [
       "      pitch_type  batter  pitch_number  inning  stand  balls  strikes  \\\n",
       "13165         CU  664040             4       4      1      1        2   \n",
       "13166         FF  664040             5       4      1      1        2   \n",
       "13167         CH  664040             6       4      1      1        2   \n",
       "13168         FF  664040             7       4      1      2        2   \n",
       "13169         CU  664040             8       4      1      3        2   \n",
       "\n",
       "       outs_when_up  game_pk       pitch_pk  ...  lsangle_hist  prev_hth  \\\n",
       "13165             2   630945  2020092703604  ...          None         2   \n",
       "13166             2   630945  2020092703605  ...          None         2   \n",
       "13167             2   630945  2020092703606  ...          None         2   \n",
       "13168             2   630945  2020092703607  ...          None         2   \n",
       "13169             2   630945  2020092703608  ...          None         2   \n",
       "\n",
       "      count_id pitch_count batter_count  pitch_last pitch_hist number_pitch  \\\n",
       "13165      1-2          89           20          CU         CU           CU   \n",
       "13166      1-2          90           20          CU         CU           CU   \n",
       "13167      1-2          91           20          FF         CU           CU   \n",
       "13168      2-2          92           20          CH         CU           CU   \n",
       "13169      3-2          93           20          FF         CU           CU   \n",
       "\n",
       "      count_pitch velo_grad  \n",
       "13165          CU     -2.85  \n",
       "13166          CU      -3.0  \n",
       "13167          CU      7.25  \n",
       "13168          CU       2.7  \n",
       "13169          CU      -0.8  \n",
       "\n",
       "[5 rows x 24 columns]"
      ]
     },
     "execution_count": 61,
     "metadata": {},
     "output_type": "execute_result"
    }
   ],
   "source": [
    "nola.tail()"
   ]
  },
  {
   "cell_type": "code",
   "execution_count": 62,
   "id": "distributed-principal",
   "metadata": {},
   "outputs": [],
   "source": [
    "velo_mean = np.mean(nola.velo_grad)\n",
    "woba_mean = np.mean(nola.woba_hist)\n",
    "lsangle_mean = np.mean(nola.lsangle_hist)"
   ]
  },
  {
   "cell_type": "code",
   "execution_count": 63,
   "id": "hydraulic-healthcare",
   "metadata": {},
   "outputs": [],
   "source": [
    "values = {\"woba_hist\":woba_mean, \"lsangle_hist\":lsangle_mean,\n",
    "          \"pitch_last\": \"CU\", \"pitch_hist\":\"CU\", \"velo_grad\":velo_mean}\n",
    "nola.fillna(value=values, inplace=True)"
   ]
  },
  {
   "cell_type": "code",
   "execution_count": 64,
   "id": "natural-blade",
   "metadata": {},
   "outputs": [],
   "source": [
    "nola.drop(columns=['outs_when_up','opponent',\n",
    "                   'game_pk', 'pitch_pk', 'stand'],  axis=1, inplace=True)"
   ]
  },
  {
   "cell_type": "code",
   "execution_count": 65,
   "id": "proper-investigation",
   "metadata": {},
   "outputs": [],
   "source": [
    "#Dummyize counts\n",
    "nola=pd.concat([nola,pd.get_dummies(nola.count_id)], axis=1)"
   ]
  },
  {
   "cell_type": "code",
   "execution_count": 66,
   "id": "polyphonic-sewing",
   "metadata": {},
   "outputs": [],
   "source": [
    "#Multinomial only\n",
    "nola=nola.replace(\"FF\",0)\n",
    "nola=nola.replace(\"SI\",1)\n",
    "nola=nola.replace(\"CU\",2)\n",
    "nola=nola.replace(\"CH\",3)"
   ]
  },
  {
   "cell_type": "code",
   "execution_count": 38,
   "id": "liquid-double",
   "metadata": {},
   "outputs": [],
   "source": [
    "#Binomial\n",
    "nola=nola.replace(\"FF\",0)\n",
    "nola=nola.replace(\"SI\",0)\n",
    "nola=nola.replace(\"CU\",1)\n",
    "nola=nola.replace(\"CH\",1)"
   ]
  },
  {
   "cell_type": "code",
   "execution_count": 67,
   "id": "exceptional-valuable",
   "metadata": {},
   "outputs": [],
   "source": [
    "nola.to_csv('Nola_multinomial.csv', index=False)"
   ]
  }
 ],
 "metadata": {
  "kernelspec": {
   "display_name": "Python 3",
   "language": "python",
   "name": "python3"
  },
  "language_info": {
   "codemirror_mode": {
    "name": "ipython",
    "version": 3
   },
   "file_extension": ".py",
   "mimetype": "text/x-python",
   "name": "python",
   "nbconvert_exporter": "python",
   "pygments_lexer": "ipython3",
   "version": "3.8.5"
  }
 },
 "nbformat": 4,
 "nbformat_minor": 5
}
